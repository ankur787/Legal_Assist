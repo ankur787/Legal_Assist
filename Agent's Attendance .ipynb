{
 "cells": [
  {
   "cell_type": "markdown",
   "metadata": {},
   "source": [
    "# Attendance Report"
   ]
  },
  {
   "cell_type": "code",
   "execution_count": 1,
   "metadata": {},
   "outputs": [],
   "source": [
    "import pandas as pd\n",
    "import numpy as np\n",
    "import datetime as dt\n",
    "from pandas.tseries.holiday import AbstractHolidayCalendar, Holiday\n",
    "import glob"
   ]
  },
  {
   "cell_type": "markdown",
   "metadata": {},
   "source": [
    "# Type name of Month in 'X'"
   ]
  },
  {
   "cell_type": "code",
   "execution_count": 2,
   "metadata": {},
   "outputs": [],
   "source": [
    "x = 'March'"
   ]
  },
  {
   "cell_type": "code",
   "execution_count": 3,
   "metadata": {},
   "outputs": [],
   "source": [
    "df = pd.DataFrame(pd.date_range('2021-01-01', end='2021-12-31'), columns=['Date'])\n",
    "df['DayName'] = pd.DatetimeIndex(df['Date']).day_name() # week day name\n",
    "df['Month']   = pd.DatetimeIndex(df['Date']).month_name() # month"
   ]
  },
  {
   "cell_type": "code",
   "execution_count": 4,
   "metadata": {},
   "outputs": [],
   "source": [
    "w = []\n",
    "for i in df['DayName'] :\n",
    "    if i == 'Sunday':\n",
    "        w.append('Week off')\n",
    "    elif i == 'Saturday':\n",
    "        w.append('Week off')\n",
    "    else:\n",
    "        w.append('Working Day')\n",
    "        \n",
    "df['Week_off'] = w\n",
    "        "
   ]
  },
  {
   "cell_type": "code",
   "execution_count": 5,
   "metadata": {},
   "outputs": [],
   "source": [
    "class INTradingCalendar(AbstractHolidayCalendar):\n",
    "    rules = [\n",
    "         Holiday('New Year', month=1, day=1),\n",
    "         Holiday('Republic Day', month=1, day=26),\n",
    "         Holiday('Holi', month=3, day=29),\n",
    "         Holiday('Good Friday', month=4, day=2),\n",
    "         Holiday('Independance Day', month=8, day=15),\n",
    "         Holiday('Raksha Bandhan', month=8, day=22),\n",
    "         Holiday('Mahatma Gandhi Jayanti', month=10, day=2),\n",
    "         Holiday('Dussehra', month=10, day=15),\n",
    "         Holiday('Dewali', month=11, day=4),\n",
    "         Holiday('Govardhan Puja', month=11, day=5),\n",
    "         Holiday('Bhai Duj', month=11, day=6),\n",
    "         Holiday('Christmas Day', month=12, day=25)\n",
    "    ]\n",
    "\n",
    "\n",
    "def get_trading_close_holidays(year):\n",
    "    inst = INTradingCalendar()\n",
    "\n",
    "    return inst.holidays(dt.datetime(year, 1, 1), dt.datetime(year, 12, 31), return_name= True)"
   ]
  },
  {
   "cell_type": "code",
   "execution_count": 6,
   "metadata": {},
   "outputs": [],
   "source": [
    "holiday = pd.DataFrame(get_trading_close_holidays(2021))\n",
    "holiday = holiday.reset_index().rename(columns={'index':'Date', 0:'Holiday'})\n",
    "holiday= df.merge(holiday, how='left', on='Date')\n",
    "holiday = holiday.replace('', np.nan)\n",
    "holiday['Week_off'] = holiday['Holiday'].fillna(holiday['Week_off'])\n",
    "holiday.drop(['Holiday'], axis = 1, inplace = True)"
   ]
  },
  {
   "cell_type": "code",
   "execution_count": 7,
   "metadata": {},
   "outputs": [
    {
     "name": "stderr",
     "output_type": "stream",
     "text": [
      "C:\\Users\\admin\\anaconda3\\lib\\site-packages\\pandas\\core\\frame.py:4163: SettingWithCopyWarning: \n",
      "A value is trying to be set on a copy of a slice from a DataFrame\n",
      "\n",
      "See the caveats in the documentation: https://pandas.pydata.org/pandas-docs/stable/user_guide/indexing.html#returning-a-view-versus-a-copy\n",
      "  return super().drop(\n"
     ]
    }
   ],
   "source": [
    "monthly_date=holiday.loc[holiday.Month==x]\n",
    "monthly_date.drop(['Month'],axis= 1, inplace= True)"
   ]
  },
  {
   "cell_type": "markdown",
   "metadata": {},
   "source": [
    "# Import Data set of Attendace"
   ]
  },
  {
   "cell_type": "code",
   "execution_count": 8,
   "metadata": {},
   "outputs": [],
   "source": [
    "file = glob.glob('*xls')\n",
    "\n",
    "fd = pd.DataFrame()\n",
    "\n",
    "for i in file:\n",
    "    mn = pd.read_html(i)\n",
    "    mn = pd.concat(mn)\n",
    "    mn.columns = mn.columns.droplevel(level=1)\n",
    "    mn.rename(columns={'##':'SNo'}, inplace= True)\n",
    "    mn.columns = mn.columns.str.replace(' ', '')\n",
    "    mn = mn[:-1]\n",
    "    mn =mn[mn.AgentName.isin(['Sujata James','Shivangi Sharma', 'Bhawna', 'Shivani Godala','Anisha Yadav', 'Mehak Singh',\n",
    "                              'Yawar Mallick','Sonia Satyan','Pawni Vaish'])]\n",
    "  \n",
    "    fd = fd.append(mn)"
   ]
  },
  {
   "cell_type": "code",
   "execution_count": 9,
   "metadata": {},
   "outputs": [
    {
     "data": {
      "text/html": [
       "<div>\n",
       "<style scoped>\n",
       "    .dataframe tbody tr th:only-of-type {\n",
       "        vertical-align: middle;\n",
       "    }\n",
       "\n",
       "    .dataframe tbody tr th {\n",
       "        vertical-align: top;\n",
       "    }\n",
       "\n",
       "    .dataframe thead th {\n",
       "        text-align: right;\n",
       "    }\n",
       "</style>\n",
       "<table border=\"1\" class=\"dataframe\">\n",
       "  <thead>\n",
       "    <tr style=\"text-align: right;\">\n",
       "      <th></th>\n",
       "      <th>SNo</th>\n",
       "      <th>AgentID</th>\n",
       "      <th>AgentName</th>\n",
       "      <th>Campaign</th>\n",
       "      <th>FirstLogin</th>\n",
       "      <th>LastLogout</th>\n",
       "      <th>LoginDuration</th>\n",
       "      <th>ModeDuration</th>\n",
       "      <th>OutboundCall</th>\n",
       "      <th>OutboundDuration</th>\n",
       "      <th>...</th>\n",
       "      <th>First_BreakDuration</th>\n",
       "      <th>Second_BreakDuration</th>\n",
       "      <th>Supervisor_CallDuration</th>\n",
       "      <th>Talking_With_ManagerDuration</th>\n",
       "      <th>Team_Leader_SessionDuration</th>\n",
       "      <th>TotalBreakDuration</th>\n",
       "      <th>TotalTalkTime</th>\n",
       "      <th>TotalCalls</th>\n",
       "      <th>ATT</th>\n",
       "      <th>AHT</th>\n",
       "    </tr>\n",
       "  </thead>\n",
       "  <tbody>\n",
       "    <tr>\n",
       "      <th>4</th>\n",
       "      <td>5</td>\n",
       "      <td>user6 (177)</td>\n",
       "      <td>Mehak Singh</td>\n",
       "      <td>AUS</td>\n",
       "      <td>2nd Mar 2021 06:59:53 AM</td>\n",
       "      <td>2nd Mar 2021 09:35:46 AM</td>\n",
       "      <td>02:35:53</td>\n",
       "      <td>02:35:53</td>\n",
       "      <td>120.0</td>\n",
       "      <td>00:48:21</td>\n",
       "      <td>...</td>\n",
       "      <td>00:00:00</td>\n",
       "      <td>00:00:00</td>\n",
       "      <td>00:00:00</td>\n",
       "      <td>00:00:00</td>\n",
       "      <td>00:00:00</td>\n",
       "      <td>00:00:00</td>\n",
       "      <td>00:59:52</td>\n",
       "      <td>140.0</td>\n",
       "      <td>00:00:25</td>\n",
       "      <td>00:00:33</td>\n",
       "    </tr>\n",
       "    <tr>\n",
       "      <th>10</th>\n",
       "      <td>11</td>\n",
       "      <td>user11(182)</td>\n",
       "      <td>Anisha Yadav</td>\n",
       "      <td>NaN</td>\n",
       "      <td>NaN</td>\n",
       "      <td>NaN</td>\n",
       "      <td>NaN</td>\n",
       "      <td>NaN</td>\n",
       "      <td>NaN</td>\n",
       "      <td>NaN</td>\n",
       "      <td>...</td>\n",
       "      <td>NaN</td>\n",
       "      <td>NaN</td>\n",
       "      <td>NaN</td>\n",
       "      <td>NaN</td>\n",
       "      <td>NaN</td>\n",
       "      <td>NaN</td>\n",
       "      <td>NaN</td>\n",
       "      <td>NaN</td>\n",
       "      <td>NaN</td>\n",
       "      <td>NaN</td>\n",
       "    </tr>\n",
       "    <tr>\n",
       "      <th>11</th>\n",
       "      <td>12</td>\n",
       "      <td>user13(184)</td>\n",
       "      <td>Pawni Vaish</td>\n",
       "      <td>NaN</td>\n",
       "      <td>NaN</td>\n",
       "      <td>NaN</td>\n",
       "      <td>NaN</td>\n",
       "      <td>NaN</td>\n",
       "      <td>NaN</td>\n",
       "      <td>NaN</td>\n",
       "      <td>...</td>\n",
       "      <td>NaN</td>\n",
       "      <td>NaN</td>\n",
       "      <td>NaN</td>\n",
       "      <td>NaN</td>\n",
       "      <td>NaN</td>\n",
       "      <td>NaN</td>\n",
       "      <td>NaN</td>\n",
       "      <td>NaN</td>\n",
       "      <td>NaN</td>\n",
       "      <td>NaN</td>\n",
       "    </tr>\n",
       "    <tr>\n",
       "      <th>12</th>\n",
       "      <td>13</td>\n",
       "      <td>user14(185)</td>\n",
       "      <td>Yawar Mallick</td>\n",
       "      <td>NaN</td>\n",
       "      <td>NaN</td>\n",
       "      <td>NaN</td>\n",
       "      <td>NaN</td>\n",
       "      <td>NaN</td>\n",
       "      <td>NaN</td>\n",
       "      <td>NaN</td>\n",
       "      <td>...</td>\n",
       "      <td>NaN</td>\n",
       "      <td>NaN</td>\n",
       "      <td>NaN</td>\n",
       "      <td>NaN</td>\n",
       "      <td>NaN</td>\n",
       "      <td>NaN</td>\n",
       "      <td>NaN</td>\n",
       "      <td>NaN</td>\n",
       "      <td>NaN</td>\n",
       "      <td>NaN</td>\n",
       "    </tr>\n",
       "    <tr>\n",
       "      <th>13</th>\n",
       "      <td>14</td>\n",
       "      <td>user2(173)</td>\n",
       "      <td>Shivangi Sharma</td>\n",
       "      <td>NaN</td>\n",
       "      <td>NaN</td>\n",
       "      <td>NaN</td>\n",
       "      <td>NaN</td>\n",
       "      <td>NaN</td>\n",
       "      <td>NaN</td>\n",
       "      <td>NaN</td>\n",
       "      <td>...</td>\n",
       "      <td>NaN</td>\n",
       "      <td>NaN</td>\n",
       "      <td>NaN</td>\n",
       "      <td>NaN</td>\n",
       "      <td>NaN</td>\n",
       "      <td>NaN</td>\n",
       "      <td>NaN</td>\n",
       "      <td>NaN</td>\n",
       "      <td>NaN</td>\n",
       "      <td>NaN</td>\n",
       "    </tr>\n",
       "  </tbody>\n",
       "</table>\n",
       "<p>5 rows × 40 columns</p>\n",
       "</div>"
      ],
      "text/plain": [
       "   SNo      AgentID        AgentName Campaign                FirstLogin  \\\n",
       "4    5  user6 (177)      Mehak Singh      AUS  2nd Mar 2021 06:59:53 AM   \n",
       "10  11  user11(182)     Anisha Yadav      NaN                       NaN   \n",
       "11  12  user13(184)      Pawni Vaish      NaN                       NaN   \n",
       "12  13  user14(185)    Yawar Mallick      NaN                       NaN   \n",
       "13  14   user2(173)  Shivangi Sharma      NaN                       NaN   \n",
       "\n",
       "                  LastLogout LoginDuration ModeDuration  OutboundCall  \\\n",
       "4   2nd Mar 2021 09:35:46 AM      02:35:53     02:35:53         120.0   \n",
       "10                       NaN           NaN          NaN           NaN   \n",
       "11                       NaN           NaN          NaN           NaN   \n",
       "12                       NaN           NaN          NaN           NaN   \n",
       "13                       NaN           NaN          NaN           NaN   \n",
       "\n",
       "   OutboundDuration  ...  First_BreakDuration Second_BreakDuration  \\\n",
       "4          00:48:21  ...             00:00:00             00:00:00   \n",
       "10              NaN  ...                  NaN                  NaN   \n",
       "11              NaN  ...                  NaN                  NaN   \n",
       "12              NaN  ...                  NaN                  NaN   \n",
       "13              NaN  ...                  NaN                  NaN   \n",
       "\n",
       "    Supervisor_CallDuration Talking_With_ManagerDuration  \\\n",
       "4                  00:00:00                     00:00:00   \n",
       "10                      NaN                          NaN   \n",
       "11                      NaN                          NaN   \n",
       "12                      NaN                          NaN   \n",
       "13                      NaN                          NaN   \n",
       "\n",
       "   Team_Leader_SessionDuration TotalBreakDuration  TotalTalkTime TotalCalls  \\\n",
       "4                     00:00:00           00:00:00       00:59:52      140.0   \n",
       "10                         NaN                NaN            NaN        NaN   \n",
       "11                         NaN                NaN            NaN        NaN   \n",
       "12                         NaN                NaN            NaN        NaN   \n",
       "13                         NaN                NaN            NaN        NaN   \n",
       "\n",
       "         ATT       AHT  \n",
       "4   00:00:25  00:00:33  \n",
       "10       NaN       NaN  \n",
       "11       NaN       NaN  \n",
       "12       NaN       NaN  \n",
       "13       NaN       NaN  \n",
       "\n",
       "[5 rows x 40 columns]"
      ]
     },
     "execution_count": 9,
     "metadata": {},
     "output_type": "execute_result"
    }
   ],
   "source": [
    "fd.tail()"
   ]
  },
  {
   "cell_type": "code",
   "execution_count": 10,
   "metadata": {},
   "outputs": [],
   "source": [
    "fd = fd.loc[:,['AgentName','FirstLogin','LastLogout','LoginDuration']]"
   ]
  },
  {
   "cell_type": "code",
   "execution_count": 11,
   "metadata": {},
   "outputs": [],
   "source": [
    "fd['FirstLogin']= pd.to_datetime(fd['FirstLogin'])\n",
    "fd['LastLogout'] = pd.to_datetime(fd['LastLogout'])"
   ]
  },
  {
   "cell_type": "code",
   "execution_count": 12,
   "metadata": {},
   "outputs": [],
   "source": [
    "fd['LastLogout'] = fd['LastLogout'].dt.time"
   ]
  },
  {
   "cell_type": "code",
   "execution_count": 13,
   "metadata": {},
   "outputs": [],
   "source": [
    "fd['Date']=fd['FirstLogin'].dt.date\n",
    "fd['LoginTime']=fd['FirstLogin'].dt.time\n",
    "fd.drop(['FirstLogin'], axis = 1 , inplace = True)\n",
    "fd =fd[['AgentName', 'Date', 'LoginTime', 'LastLogout','LoginDuration']]\n",
    "fd['Date'] = fd['Date'].fillna(method='ffill')"
   ]
  },
  {
   "cell_type": "code",
   "execution_count": 14,
   "metadata": {},
   "outputs": [],
   "source": [
    "fd['Date'] = pd.to_datetime(fd['Date'])"
   ]
  },
  {
   "cell_type": "code",
   "execution_count": 15,
   "metadata": {},
   "outputs": [
    {
     "data": {
      "text/html": [
       "<div>\n",
       "<style scoped>\n",
       "    .dataframe tbody tr th:only-of-type {\n",
       "        vertical-align: middle;\n",
       "    }\n",
       "\n",
       "    .dataframe tbody tr th {\n",
       "        vertical-align: top;\n",
       "    }\n",
       "\n",
       "    .dataframe thead th {\n",
       "        text-align: right;\n",
       "    }\n",
       "</style>\n",
       "<table border=\"1\" class=\"dataframe\">\n",
       "  <thead>\n",
       "    <tr style=\"text-align: right;\">\n",
       "      <th></th>\n",
       "      <th>AgentName</th>\n",
       "      <th>Date</th>\n",
       "      <th>LoginTime</th>\n",
       "      <th>LastLogout</th>\n",
       "      <th>LoginDuration</th>\n",
       "    </tr>\n",
       "  </thead>\n",
       "  <tbody>\n",
       "    <tr>\n",
       "      <th>0</th>\n",
       "      <td>Sujata James</td>\n",
       "      <td>2021-03-01</td>\n",
       "      <td>06:26:20</td>\n",
       "      <td>15:01:49</td>\n",
       "      <td>08:28:30</td>\n",
       "    </tr>\n",
       "    <tr>\n",
       "      <th>1</th>\n",
       "      <td>Shivangi Sharma</td>\n",
       "      <td>2021-03-01</td>\n",
       "      <td>06:29:12</td>\n",
       "      <td>15:02:25</td>\n",
       "      <td>08:30:57</td>\n",
       "    </tr>\n",
       "    <tr>\n",
       "      <th>2</th>\n",
       "      <td>Mehak Singh</td>\n",
       "      <td>2021-03-01</td>\n",
       "      <td>06:32:10</td>\n",
       "      <td>15:01:51</td>\n",
       "      <td>08:29:41</td>\n",
       "    </tr>\n",
       "  </tbody>\n",
       "</table>\n",
       "</div>"
      ],
      "text/plain": [
       "         AgentName       Date LoginTime LastLogout LoginDuration\n",
       "0     Sujata James 2021-03-01  06:26:20   15:01:49      08:28:30\n",
       "1  Shivangi Sharma 2021-03-01  06:29:12   15:02:25      08:30:57\n",
       "2      Mehak Singh 2021-03-01  06:32:10   15:01:51      08:29:41"
      ]
     },
     "execution_count": 15,
     "metadata": {},
     "output_type": "execute_result"
    }
   ],
   "source": [
    "fd.head(3)"
   ]
  },
  {
   "cell_type": "code",
   "execution_count": 16,
   "metadata": {},
   "outputs": [],
   "source": [
    "monthly_date = monthly_date.merge(fd, how='left', on='Date')"
   ]
  },
  {
   "cell_type": "code",
   "execution_count": 17,
   "metadata": {},
   "outputs": [
    {
     "data": {
      "text/plain": [
       "(47, 7)"
      ]
     },
     "execution_count": 17,
     "metadata": {},
     "output_type": "execute_result"
    }
   ],
   "source": [
    "monthly_date.shape"
   ]
  },
  {
   "cell_type": "code",
   "execution_count": 18,
   "metadata": {},
   "outputs": [],
   "source": [
    "from datetime import time"
   ]
  },
  {
   "cell_type": "code",
   "execution_count": 19,
   "metadata": {},
   "outputs": [],
   "source": [
    "e = pd.to_timedelta(time(hour=5 , minute=45, second=0).isoformat('auto'))\n",
    "o = pd.to_timedelta(time(hour=6 , minute=45, second=0).isoformat('auto'))\n",
    "l = pd.to_timedelta(time(hour=8 , minute=15, second=0).isoformat('auto'))\n",
    "# For Absent Case\n",
    "a = pd.to_timedelta(time(hour=0 , minute=0, second=0).isoformat('auto'))\n",
    "# For Early Logout Case\n",
    "hd = pd.to_timedelta(time(hour=4 , minute=45, second=0).isoformat('auto'))"
   ]
  },
  {
   "cell_type": "code",
   "execution_count": 20,
   "metadata": {},
   "outputs": [],
   "source": [
    "monthly_date['LoginTime'].fillna(a, inplace=True)\n",
    "monthly_date['LoginDuration'].fillna(a, inplace=True)\n",
    "monthly_date['LastLogout'].fillna(a, inplace=True)"
   ]
  },
  {
   "cell_type": "code",
   "execution_count": 21,
   "metadata": {},
   "outputs": [],
   "source": [
    "monthly_date['LastLogout'] = pd.to_timedelta(monthly_date['LastLogout'].astype(str))\n",
    "monthly_date['LoginTime'] = pd.to_timedelta(monthly_date['LoginTime'].astype(str))\n",
    "monthly_date['LoginDuration'] = pd.to_timedelta(monthly_date['LoginDuration'].astype(str))"
   ]
  },
  {
   "cell_type": "code",
   "execution_count": 22,
   "metadata": {},
   "outputs": [],
   "source": [
    "r = []\n",
    "for i in monthly_date.LoginTime:\n",
    "    if i > e and i <=o:\n",
    "        r.append('On Time')\n",
    "    elif i > o and i <=l :\n",
    "        r.append('Late')\n",
    "    elif i == a:\n",
    "        r.append('Absent')\n",
    "    else:\n",
    "        r.append('Half Day')\n",
    "        \n",
    "monthly_date['Remarks'] = r"
   ]
  },
  {
   "cell_type": "markdown",
   "metadata": {},
   "source": [
    "# For Early Logout Case"
   ]
  },
  {
   "cell_type": "code",
   "execution_count": 23,
   "metadata": {},
   "outputs": [],
   "source": [
    "r1 = []\n",
    "for i in monthly_date.LoginDuration:\n",
    "    if i <= hd:\n",
    "        r1.append('Early Logout')\n",
    "    else:\n",
    "        r1.append('Logout')\n",
    "\n",
    "monthly_date['Remarks_1'] = r1"
   ]
  },
  {
   "cell_type": "code",
   "execution_count": 24,
   "metadata": {},
   "outputs": [],
   "source": [
    "monthly_date.loc[monthly_date['Week_off']=='Week off', 'Remarks'] = 'Week off'\n",
    "monthly_date.loc[monthly_date['Week_off']=='Week off', 'Remarks_1'] = 'Week off'\n",
    "monthly_date.loc[monthly_date['Remarks']=='Absent', 'Remarks_1'] = 'Absent'\n",
    "monthly_date.loc[monthly_date['Remarks_1']=='Early Logout', 'Remarks'] = 'Half Day'"
   ]
  },
  {
   "cell_type": "code",
   "execution_count": 25,
   "metadata": {},
   "outputs": [],
   "source": [
    "monthly_date.drop('Remarks_1', axis=1, inplace= True)"
   ]
  },
  {
   "cell_type": "code",
   "execution_count": 26,
   "metadata": {},
   "outputs": [],
   "source": [
    "monthly_date['LoginTime'] = pd.to_datetime(monthly_date['LoginTime'],errors='ignore')\n",
    "monthly_date['LoginDuration'] = pd.to_datetime(monthly_date['LoginDuration'],errors='ignore')\n",
    "monthly_date['LastLogout'] = pd.to_datetime(monthly_date['LastLogout'],errors='ignore')"
   ]
  },
  {
   "cell_type": "code",
   "execution_count": 27,
   "metadata": {},
   "outputs": [
    {
     "data": {
      "text/html": [
       "<div>\n",
       "<style scoped>\n",
       "    .dataframe tbody tr th:only-of-type {\n",
       "        vertical-align: middle;\n",
       "    }\n",
       "\n",
       "    .dataframe tbody tr th {\n",
       "        vertical-align: top;\n",
       "    }\n",
       "\n",
       "    .dataframe thead th {\n",
       "        text-align: right;\n",
       "    }\n",
       "</style>\n",
       "<table border=\"1\" class=\"dataframe\">\n",
       "  <thead>\n",
       "    <tr style=\"text-align: right;\">\n",
       "      <th></th>\n",
       "      <th>Date</th>\n",
       "      <th>DayName</th>\n",
       "      <th>Week_off</th>\n",
       "      <th>AgentName</th>\n",
       "      <th>LoginTime</th>\n",
       "      <th>LastLogout</th>\n",
       "      <th>LoginDuration</th>\n",
       "      <th>Remarks</th>\n",
       "    </tr>\n",
       "  </thead>\n",
       "  <tbody>\n",
       "    <tr>\n",
       "      <th>0</th>\n",
       "      <td>2021-03-01</td>\n",
       "      <td>Monday</td>\n",
       "      <td>Working Day</td>\n",
       "      <td>Sujata James</td>\n",
       "      <td>0 days 06:26:20</td>\n",
       "      <td>0 days 15:01:49</td>\n",
       "      <td>0 days 08:28:30</td>\n",
       "      <td>On Time</td>\n",
       "    </tr>\n",
       "    <tr>\n",
       "      <th>1</th>\n",
       "      <td>2021-03-01</td>\n",
       "      <td>Monday</td>\n",
       "      <td>Working Day</td>\n",
       "      <td>Shivangi Sharma</td>\n",
       "      <td>0 days 06:29:12</td>\n",
       "      <td>0 days 15:02:25</td>\n",
       "      <td>0 days 08:30:57</td>\n",
       "      <td>On Time</td>\n",
       "    </tr>\n",
       "    <tr>\n",
       "      <th>2</th>\n",
       "      <td>2021-03-01</td>\n",
       "      <td>Monday</td>\n",
       "      <td>Working Day</td>\n",
       "      <td>Mehak Singh</td>\n",
       "      <td>0 days 06:32:10</td>\n",
       "      <td>0 days 15:01:51</td>\n",
       "      <td>0 days 08:29:41</td>\n",
       "      <td>On Time</td>\n",
       "    </tr>\n",
       "    <tr>\n",
       "      <th>3</th>\n",
       "      <td>2021-03-01</td>\n",
       "      <td>Monday</td>\n",
       "      <td>Working Day</td>\n",
       "      <td>Yawar Mallick</td>\n",
       "      <td>0 days 06:33:42</td>\n",
       "      <td>0 days 15:01:44</td>\n",
       "      <td>0 days 08:28:02</td>\n",
       "      <td>On Time</td>\n",
       "    </tr>\n",
       "    <tr>\n",
       "      <th>4</th>\n",
       "      <td>2021-03-01</td>\n",
       "      <td>Monday</td>\n",
       "      <td>Working Day</td>\n",
       "      <td>Shivani Godala</td>\n",
       "      <td>0 days 06:37:14</td>\n",
       "      <td>0 days 15:01:41</td>\n",
       "      <td>0 days 08:06:29</td>\n",
       "      <td>On Time</td>\n",
       "    </tr>\n",
       "    <tr>\n",
       "      <th>5</th>\n",
       "      <td>2021-03-01</td>\n",
       "      <td>Monday</td>\n",
       "      <td>Working Day</td>\n",
       "      <td>Bhawna</td>\n",
       "      <td>0 days 06:40:22</td>\n",
       "      <td>0 days 15:01:48</td>\n",
       "      <td>0 days 08:17:51</td>\n",
       "      <td>On Time</td>\n",
       "    </tr>\n",
       "    <tr>\n",
       "      <th>6</th>\n",
       "      <td>2021-03-01</td>\n",
       "      <td>Monday</td>\n",
       "      <td>Working Day</td>\n",
       "      <td>Anisha Yadav</td>\n",
       "      <td>0 days 00:00:00</td>\n",
       "      <td>0 days 00:00:00</td>\n",
       "      <td>0 days 00:00:00</td>\n",
       "      <td>Absent</td>\n",
       "    </tr>\n",
       "    <tr>\n",
       "      <th>7</th>\n",
       "      <td>2021-03-01</td>\n",
       "      <td>Monday</td>\n",
       "      <td>Working Day</td>\n",
       "      <td>Sonia Satyan</td>\n",
       "      <td>0 days 00:00:00</td>\n",
       "      <td>0 days 00:00:00</td>\n",
       "      <td>0 days 00:00:00</td>\n",
       "      <td>Absent</td>\n",
       "    </tr>\n",
       "    <tr>\n",
       "      <th>8</th>\n",
       "      <td>2021-03-01</td>\n",
       "      <td>Monday</td>\n",
       "      <td>Working Day</td>\n",
       "      <td>Pawni Vaish</td>\n",
       "      <td>0 days 00:00:00</td>\n",
       "      <td>0 days 00:00:00</td>\n",
       "      <td>0 days 00:00:00</td>\n",
       "      <td>Absent</td>\n",
       "    </tr>\n",
       "    <tr>\n",
       "      <th>9</th>\n",
       "      <td>2021-03-02</td>\n",
       "      <td>Tuesday</td>\n",
       "      <td>Working Day</td>\n",
       "      <td>Bhawna</td>\n",
       "      <td>0 days 06:22:25</td>\n",
       "      <td>0 days 09:34:58</td>\n",
       "      <td>0 days 03:12:33</td>\n",
       "      <td>Half Day</td>\n",
       "    </tr>\n",
       "  </tbody>\n",
       "</table>\n",
       "</div>"
      ],
      "text/plain": [
       "        Date  DayName     Week_off        AgentName       LoginTime  \\\n",
       "0 2021-03-01   Monday  Working Day     Sujata James 0 days 06:26:20   \n",
       "1 2021-03-01   Monday  Working Day  Shivangi Sharma 0 days 06:29:12   \n",
       "2 2021-03-01   Monday  Working Day      Mehak Singh 0 days 06:32:10   \n",
       "3 2021-03-01   Monday  Working Day    Yawar Mallick 0 days 06:33:42   \n",
       "4 2021-03-01   Monday  Working Day   Shivani Godala 0 days 06:37:14   \n",
       "5 2021-03-01   Monday  Working Day           Bhawna 0 days 06:40:22   \n",
       "6 2021-03-01   Monday  Working Day     Anisha Yadav 0 days 00:00:00   \n",
       "7 2021-03-01   Monday  Working Day     Sonia Satyan 0 days 00:00:00   \n",
       "8 2021-03-01   Monday  Working Day      Pawni Vaish 0 days 00:00:00   \n",
       "9 2021-03-02  Tuesday  Working Day           Bhawna 0 days 06:22:25   \n",
       "\n",
       "       LastLogout   LoginDuration   Remarks  \n",
       "0 0 days 15:01:49 0 days 08:28:30   On Time  \n",
       "1 0 days 15:02:25 0 days 08:30:57   On Time  \n",
       "2 0 days 15:01:51 0 days 08:29:41   On Time  \n",
       "3 0 days 15:01:44 0 days 08:28:02   On Time  \n",
       "4 0 days 15:01:41 0 days 08:06:29   On Time  \n",
       "5 0 days 15:01:48 0 days 08:17:51   On Time  \n",
       "6 0 days 00:00:00 0 days 00:00:00    Absent  \n",
       "7 0 days 00:00:00 0 days 00:00:00    Absent  \n",
       "8 0 days 00:00:00 0 days 00:00:00    Absent  \n",
       "9 0 days 09:34:58 0 days 03:12:33  Half Day  "
      ]
     },
     "execution_count": 27,
     "metadata": {},
     "output_type": "execute_result"
    }
   ],
   "source": [
    "monthly_date.head(10)"
   ]
  },
  {
   "cell_type": "code",
   "execution_count": 28,
   "metadata": {},
   "outputs": [],
   "source": [
    "#monthly_date.to_csv('AttendanceReport.csv', index=False)"
   ]
  },
  {
   "cell_type": "code",
   "execution_count": null,
   "metadata": {},
   "outputs": [],
   "source": []
  }
 ],
 "metadata": {
  "kernelspec": {
   "display_name": "Python 3",
   "language": "python",
   "name": "python3"
  },
  "language_info": {
   "codemirror_mode": {
    "name": "ipython",
    "version": 3
   },
   "file_extension": ".py",
   "mimetype": "text/x-python",
   "name": "python",
   "nbconvert_exporter": "python",
   "pygments_lexer": "ipython3",
   "version": "3.8.5"
  }
 },
 "nbformat": 4,
 "nbformat_minor": 4
}
